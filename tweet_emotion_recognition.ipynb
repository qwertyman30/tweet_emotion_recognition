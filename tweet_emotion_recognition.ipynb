{
  "nbformat": 4,
  "nbformat_minor": 0,
  "metadata": {
    "colab": {
      "name": "tweet emotion recognition.ipynb",
      "provenance": []
    },
    "kernelspec": {
      "name": "python3",
      "display_name": "Python 3"
    },
    "language_info": {
      "name": "python"
    },
    "accelerator": "GPU"
  },
  "cells": [
    {
      "cell_type": "code",
      "metadata": {
        "id": "SSonogUtxpuM"
      },
      "source": [
        "%matplotlib inline\n",
        "\n",
        "import tensorflow as tf\n",
        "import numpy as np\n",
        "import matplotlib.pyplot as plt\n",
        "import nlp\n",
        "import random\n",
        "from sklearn.metrics import confusion_matrix\n",
        "from tensorflow.keras.preprocessing.text import Tokenizer\n",
        "from tensorflow.keras.preprocessing.sequence import pad_sequences"
      ],
      "execution_count": null,
      "outputs": []
    },
    {
      "cell_type": "code",
      "metadata": {
        "id": "ZMEq-bOGyxVA"
      },
      "source": [
        "def show_history(h):\n",
        "    epochs = len(h.history['loss'])\n",
        "    plt.figure(figsize=(16, 6))\n",
        "\n",
        "    plt.subplot(1, 2, 2)\n",
        "    plt.plot(range(1, epochs+1), h.history.get('accuracy'), label=\"Training\")\n",
        "    plt.plot(range(1, epochs+1), h.history.get('val_accuracy'), label=\"Validation\")\n",
        "    plt.xlabel('Epochs')\n",
        "    plt.ylabel('Accuracy')\n",
        "    plt.legend()\n",
        "    plt.show()\n",
        "    \n",
        "    plt.subplot(1, 2, 2)\n",
        "    plt.plot(range(1, epochs+1), h.history.get('loss'), label=\"Training\")\n",
        "    plt.plot(range(1, epochs+1), h.history.get('val_loss'), label=\"Validation\")\n",
        "    plt.xlabel('Epochs')\n",
        "    plt.ylabel('Loss')\n",
        "    plt.legend()\n",
        "    plt.show()"
      ],
      "execution_count": null,
      "outputs": []
    },
    {
      "cell_type": "code",
      "metadata": {
        "id": "ymXGrkYHzIG0"
      },
      "source": [
        "def show_confusion_matrix(y_true, y_pred, classes):\n",
        "  cm = confusion_matrix(y_true, y_pred, normalize='true')\n",
        "  \n",
        "  plt.figure(figsize=(8, 8))\n",
        "  sp = plt.subplot(1, 1, 1)\n",
        "  ctx = sp.matshow(cm)\n",
        "  plt.xticks(list(range(0, 6)), labels=classes)\n",
        "  plt.yticks(list(range(0, 6)), labels=classes)\n",
        "  plt.colorbar(ctx)\n",
        "  plt.show()"
      ],
      "execution_count": 88,
      "outputs": []
    },
    {
      "cell_type": "code",
      "metadata": {
        "colab": {
          "base_uri": "https://localhost:8080/",
          "referenced_widgets": [
            "abf48f49f89245a787bed51e6fea99db",
            "0e8570c560b54bec8f213cbfffa07816",
            "2a16da0b486c4473add867e50e0d4529",
            "8fa660d636574a149becc686d0780ab5",
            "dc9e15f4c9c441b59d192a01a99280c5",
            "b4707211319349c9a1b4f62f6658fe1e",
            "7543134b55694f41a2206a95cfd47a2d",
            "0aad9ba1b5694449b137fe5d10834394"
          ]
        },
        "id": "7QNByku5zp5U",
        "outputId": "abd4f0b7-42d7-4a17-e16a-775b1c769aa9"
      },
      "source": [
        "dataset = nlp.load_dataset('emotion')"
      ],
      "execution_count": null,
      "outputs": [
        {
          "output_type": "display_data",
          "data": {
            "application/vnd.jupyter.widget-view+json": {
              "model_id": "abf48f49f89245a787bed51e6fea99db",
              "version_minor": 0,
              "version_major": 2
            },
            "text/plain": [
              "HBox(children=(FloatProgress(value=0.0, description='Downloading', max=3406.0, style=ProgressStyle(description…"
            ]
          },
          "metadata": {
            "tags": []
          }
        },
        {
          "output_type": "stream",
          "text": [
            "\n"
          ],
          "name": "stdout"
        },
        {
          "output_type": "display_data",
          "data": {
            "application/vnd.jupyter.widget-view+json": {
              "model_id": "0e8570c560b54bec8f213cbfffa07816",
              "version_minor": 0,
              "version_major": 2
            },
            "text/plain": [
              "HBox(children=(FloatProgress(value=0.0, description='Downloading', max=6011.0, style=ProgressStyle(description…"
            ]
          },
          "metadata": {
            "tags": []
          }
        },
        {
          "output_type": "stream",
          "text": [
            "Using custom data configuration default\n"
          ],
          "name": "stderr"
        },
        {
          "output_type": "stream",
          "text": [
            "\n",
            "Downloading and preparing dataset emotion/default (download: 1.97 MiB, generated: 2.09 MiB, post-processed: Unknown sizetotal: 4.06 MiB) to /root/.cache/huggingface/datasets/emotion/default/0.0.0/84e07cd366f4451464584cdbd4958f512bcaddb1e921341e07298ce8a9ce42f4...\n"
          ],
          "name": "stdout"
        },
        {
          "output_type": "display_data",
          "data": {
            "application/vnd.jupyter.widget-view+json": {
              "model_id": "2a16da0b486c4473add867e50e0d4529",
              "version_minor": 0,
              "version_major": 2
            },
            "text/plain": [
              "HBox(children=(FloatProgress(value=0.0, description='Downloading', max=1658616.0, style=ProgressStyle(descript…"
            ]
          },
          "metadata": {
            "tags": []
          }
        },
        {
          "output_type": "stream",
          "text": [
            "\n"
          ],
          "name": "stdout"
        },
        {
          "output_type": "display_data",
          "data": {
            "application/vnd.jupyter.widget-view+json": {
              "model_id": "8fa660d636574a149becc686d0780ab5",
              "version_minor": 0,
              "version_major": 2
            },
            "text/plain": [
              "HBox(children=(FloatProgress(value=0.0, description='Downloading', max=204240.0, style=ProgressStyle(descripti…"
            ]
          },
          "metadata": {
            "tags": []
          }
        },
        {
          "output_type": "stream",
          "text": [
            "\n"
          ],
          "name": "stdout"
        },
        {
          "output_type": "display_data",
          "data": {
            "application/vnd.jupyter.widget-view+json": {
              "model_id": "dc9e15f4c9c441b59d192a01a99280c5",
              "version_minor": 0,
              "version_major": 2
            },
            "text/plain": [
              "HBox(children=(FloatProgress(value=0.0, description='Downloading', max=206760.0, style=ProgressStyle(descripti…"
            ]
          },
          "metadata": {
            "tags": []
          }
        },
        {
          "output_type": "stream",
          "text": [
            "\n"
          ],
          "name": "stdout"
        },
        {
          "output_type": "display_data",
          "data": {
            "application/vnd.jupyter.widget-view+json": {
              "model_id": "b4707211319349c9a1b4f62f6658fe1e",
              "version_minor": 0,
              "version_major": 2
            },
            "text/plain": [
              "HBox(children=(FloatProgress(value=1.0, bar_style='info', max=1.0), HTML(value='')))"
            ]
          },
          "metadata": {
            "tags": []
          }
        },
        {
          "output_type": "stream",
          "text": [
            "\r"
          ],
          "name": "stdout"
        },
        {
          "output_type": "display_data",
          "data": {
            "application/vnd.jupyter.widget-view+json": {
              "model_id": "7543134b55694f41a2206a95cfd47a2d",
              "version_minor": 0,
              "version_major": 2
            },
            "text/plain": [
              "HBox(children=(FloatProgress(value=1.0, bar_style='info', max=1.0), HTML(value='')))"
            ]
          },
          "metadata": {
            "tags": []
          }
        },
        {
          "output_type": "stream",
          "text": [
            "\r"
          ],
          "name": "stdout"
        },
        {
          "output_type": "display_data",
          "data": {
            "application/vnd.jupyter.widget-view+json": {
              "model_id": "0aad9ba1b5694449b137fe5d10834394",
              "version_minor": 0,
              "version_major": 2
            },
            "text/plain": [
              "HBox(children=(FloatProgress(value=1.0, bar_style='info', max=1.0), HTML(value='')))"
            ]
          },
          "metadata": {
            "tags": []
          }
        },
        {
          "output_type": "stream",
          "text": [
            "\rDataset emotion downloaded and prepared to /root/.cache/huggingface/datasets/emotion/default/0.0.0/84e07cd366f4451464584cdbd4958f512bcaddb1e921341e07298ce8a9ce42f4. Subsequent calls will reuse this data.\n"
          ],
          "name": "stdout"
        }
      ]
    },
    {
      "cell_type": "code",
      "metadata": {
        "colab": {
          "base_uri": "https://localhost:8080/"
        },
        "id": "wmp5XKKQ0uZs",
        "outputId": "da46c9fe-42f3-4878-b8f1-7e956a959148"
      },
      "source": [
        "dataset"
      ],
      "execution_count": null,
      "outputs": [
        {
          "output_type": "execute_result",
          "data": {
            "text/plain": [
              "{'test': Dataset(features: {'text': Value(dtype='string', id=None), 'label': Value(dtype='string', id=None)}, num_rows: 2000),\n",
              " 'train': Dataset(features: {'text': Value(dtype='string', id=None), 'label': Value(dtype='string', id=None)}, num_rows: 16000),\n",
              " 'validation': Dataset(features: {'text': Value(dtype='string', id=None), 'label': Value(dtype='string', id=None)}, num_rows: 2000)}"
            ]
          },
          "metadata": {
            "tags": []
          },
          "execution_count": 8
        }
      ]
    },
    {
      "cell_type": "code",
      "metadata": {
        "id": "lGuKPIxa08Po"
      },
      "source": [
        "train = dataset['train']\n",
        "val = dataset['validation']\n",
        "test = dataset['test']"
      ],
      "execution_count": null,
      "outputs": []
    },
    {
      "cell_type": "code",
      "metadata": {
        "id": "fe0HsDy32MWM"
      },
      "source": [
        "def get_data_labels(data):\n",
        "  tweets = [x['text'] for x in data]\n",
        "  labels = [x['label'] for x in data]\n",
        "  return tweets, labels"
      ],
      "execution_count": null,
      "outputs": []
    },
    {
      "cell_type": "code",
      "metadata": {
        "id": "NG2VOsPn2Q_E"
      },
      "source": [
        "x_train, y_train = get_data_labels(train)\n",
        "x_val, y_val = get_data_labels(val)\n",
        "x_test, y_test = get_data_labels(test)"
      ],
      "execution_count": null,
      "outputs": []
    },
    {
      "cell_type": "code",
      "metadata": {
        "id": "SgbNFgzA21aU"
      },
      "source": [
        "tokenizer = Tokenizer(num_words=10000, oov_token=\"<UNK>\")\n",
        "tokenizer.fit_on_texts(x_train)"
      ],
      "execution_count": null,
      "outputs": []
    },
    {
      "cell_type": "code",
      "metadata": {
        "colab": {
          "base_uri": "https://localhost:8080/"
        },
        "id": "-hUMbbH43dYI",
        "outputId": "21f5f1e3-73e4-4bd3-bf30-beae25eaeda8"
      },
      "source": [
        "lengths = [len(t.split(' ')) for t in x_train]\n",
        "plt.hist(lengths, bins=len(set(lengths)))\n",
        "plt.show()"
      ],
      "execution_count": null,
      "outputs": [
        {
          "output_type": "display_data",
          "data": {
            "image/png": "[encoded data removed]",
            "text/plain": [
              "<Figure size 432x288 with 1 Axes>"
            ]
          },
          "metadata": {
            "tags": [],
            "needs_background": "light"
          }
        }
      ]
    },
    {
      "cell_type": "code",
      "metadata": {
        "id": "V5aMo9Ok4E50"
      },
      "source": [
        "max_len = 50"
      ],
      "execution_count": 29,
      "outputs": []
    },
    {
      "cell_type": "code",
      "metadata": {
        "id": "X77R79XT4eBo"
      },
      "source": [
        "def get_sequences(tokenizer, tweets):\n",
        "  sequences = tokenizer.texts_to_sequences(tweets)\n",
        "  padded_sequences = pad_sequences(sequences, maxlen=max_len, truncating='post', padding='post')\n",
        "  return padded_sequences"
      ],
      "execution_count": 30,
      "outputs": []
    },
    {
      "cell_type": "code",
      "metadata": {
        "id": "pK9NzKYC40gs"
      },
      "source": [
        "padded_train_seq = get_sequences(tokenizer, x_train)"
      ],
      "execution_count": 31,
      "outputs": []
    },
    {
      "cell_type": "code",
      "metadata": {
        "colab": {
          "base_uri": "https://localhost:8080/"
        },
        "id": "3XfhDWoG48nc",
        "outputId": "00d95950-3bca-4d11-fe16-eec0d1215c5d"
      },
      "source": [
        "classes = set(y_train)\n",
        "classes"
      ],
      "execution_count": 36,
      "outputs": [
        {
          "output_type": "execute_result",
          "data": {
            "text/plain": [
              "{'anger', 'fear', 'joy', 'love', 'sadness', 'surprise'}"
            ]
          },
          "metadata": {
            "tags": []
          },
          "execution_count": 36
        }
      ]
    },
    {
      "cell_type": "code",
      "metadata": {
        "colab": {
          "base_uri": "https://localhost:8080/",
          "height": 265
        },
        "id": "KJwYblrX49ng",
        "outputId": "40fa0d72-2d8c-412d-d89f-9c83409adaeb"
      },
      "source": [
        "plt.hist(y_train, bins=11)\n",
        "plt.show()"
      ],
      "execution_count": 40,
      "outputs": [
        {
          "output_type": "display_data",
          "data": {
            "image/png": "[encoded data removed]",
            "text/plain": [
              "<Figure size 432x288 with 1 Axes>"
            ]
          },
          "metadata": {
            "tags": [],
            "needs_background": "light"
          }
        }
      ]
    },
    {
      "cell_type": "code",
      "metadata": {
        "id": "X6ziWeDL5a0Q"
      },
      "source": [
        "class_to_index = dict((c, i) for i, c in enumerate(classes))\n",
        "index_to_class = dict((v, k) for k, v in class_to_index.items())"
      ],
      "execution_count": 41,
      "outputs": []
    },
    {
      "cell_type": "code",
      "metadata": {
        "id": "1e1fr0Fa5wCE"
      },
      "source": [
        "names_to_ids = lambda labels: np.array([class_to_index.get(x) for x in labels])"
      ],
      "execution_count": 44,
      "outputs": []
    },
    {
      "cell_type": "code",
      "metadata": {
        "id": "D7w-LTPL592c"
      },
      "source": [
        "y_train = names_to_ids(y_train)"
      ],
      "execution_count": 45,
      "outputs": []
    },
    {
      "cell_type": "code",
      "metadata": {
        "colab": {
          "base_uri": "https://localhost:8080/"
        },
        "id": "jAaA6x7b6UwE",
        "outputId": "9388c60d-75b9-4068-bec0-ccae17fc7e0f"
      },
      "source": [
        "model = tf.keras.models.Sequential([\n",
        "  tf.keras.layers.Embedding(10000, 16, input_length=max_len),\n",
        "  tf.keras.layers.Bidirectional(tf.keras.layers.LSTM(20, activation='tanh', return_sequences='true')),\n",
        "  tf.keras.layers.Bidirectional(tf.keras.layers.LSTM(20, activation='tanh')),\n",
        "  tf.keras.layers.Dense(6, activation='softmax')\n",
        "])\n",
        "\n",
        "model.compile(\n",
        "    loss='sparse_categorical_crossentropy',\n",
        "    optimizer='adam',\n",
        "    metrics=['accuracy']\n",
        ")\n",
        "model.summary()"
      ],
      "execution_count": 60,
      "outputs": [
        {
          "output_type": "stream",
          "text": [
            "Model: \"sequential_2\"\n",
            "_________________________________________________________________\n",
            "Layer (type)                 Output Shape              Param #   \n",
            "=================================================================\n",
            "embedding_2 (Embedding)      (None, 50, 16)            160000    \n",
            "_________________________________________________________________\n",
            "bidirectional_4 (Bidirection (None, 50, 40)            5920      \n",
            "_________________________________________________________________\n",
            "bidirectional_5 (Bidirection (None, 40)                9760      \n",
            "_________________________________________________________________\n",
            "dense_2 (Dense)              (None, 6)                 246       \n",
            "=================================================================\n",
            "Total params: 175,926\n",
            "Trainable params: 175,926\n",
            "Non-trainable params: 0\n",
            "_________________________________________________________________\n"
          ],
          "name": "stdout"
        }
      ]
    },
    {
      "cell_type": "code",
      "metadata": {
        "id": "v2nY1zjQ7RZU"
      },
      "source": [
        "x_val = get_sequences(tokenizer, x_val)\n",
        "y_val = names_to_ids(y_val)"
      ],
      "execution_count": 53,
      "outputs": []
    },
    {
      "cell_type": "code",
      "metadata": {
        "colab": {
          "base_uri": "https://localhost:8080/"
        },
        "id": "6_Ehdnhq7-j8",
        "outputId": "b2ee96a6-e829-4151-cb36-30722d9a8b60"
      },
      "source": [
        "h = model.fit(padded_train_seq, y_train, validation_data=(x_val, y_val), epochs=25,\n",
        "              callbacks=[tf.keras.callbacks.EarlyStopping(monitor='val_accuracy', patience=4)])"
      ],
      "execution_count": 62,
      "outputs": [
        {
          "output_type": "stream",
          "text": [
            "Epoch 1/25\n",
            "500/500 [==============================] - 10s 17ms/step - loss: 1.2841 - accuracy: 0.4971 - val_loss: 0.7609 - val_accuracy: 0.7375\n",
            "Epoch 2/25\n",
            "500/500 [==============================] - 8s 15ms/step - loss: 0.5458 - accuracy: 0.8066 - val_loss: 0.6040 - val_accuracy: 0.7990\n",
            "Epoch 3/25\n",
            "500/500 [==============================] - 8s 16ms/step - loss: 0.3257 - accuracy: 0.8948 - val_loss: 0.4102 - val_accuracy: 0.8625\n",
            "Epoch 4/25\n",
            "500/500 [==============================] - 8s 16ms/step - loss: 0.2202 - accuracy: 0.9335 - val_loss: 0.4450 - val_accuracy: 0.8625\n",
            "Epoch 5/25\n",
            "500/500 [==============================] - 8s 16ms/step - loss: 0.1662 - accuracy: 0.9496 - val_loss: 0.3707 - val_accuracy: 0.8820\n",
            "Epoch 6/25\n",
            "500/500 [==============================] - 7s 15ms/step - loss: 0.1234 - accuracy: 0.9620 - val_loss: 0.3502 - val_accuracy: 0.8920\n",
            "Epoch 7/25\n",
            "500/500 [==============================] - 8s 15ms/step - loss: 0.1006 - accuracy: 0.9694 - val_loss: 0.3786 - val_accuracy: 0.8770\n",
            "Epoch 8/25\n",
            "500/500 [==============================] - 7s 15ms/step - loss: 0.1028 - accuracy: 0.9678 - val_loss: 0.4508 - val_accuracy: 0.8695\n",
            "Epoch 9/25\n",
            "500/500 [==============================] - 7s 15ms/step - loss: 0.0937 - accuracy: 0.9709 - val_loss: 0.4186 - val_accuracy: 0.8860\n",
            "Epoch 10/25\n",
            "500/500 [==============================] - 7s 15ms/step - loss: 0.0709 - accuracy: 0.9771 - val_loss: 0.3843 - val_accuracy: 0.8820\n"
          ],
          "name": "stdout"
        }
      ]
    },
    {
      "cell_type": "code",
      "metadata": {
        "colab": {
          "base_uri": "https://localhost:8080/",
          "height": 653
        },
        "id": "bk8Kl9vV8AkE",
        "outputId": "823580a1-6c0a-40a3-bc24-9968d732e05d"
      },
      "source": [
        "show_history(h)"
      ],
      "execution_count": 63,
      "outputs": [
        {
          "output_type": "display_data",
          "data": {
            "image/png": "[encoded data removed]",
            "text/plain": [
              "<Figure size 1152x432 with 1 Axes>"
            ]
          },
          "metadata": {
            "tags": [],
            "needs_background": "light"
          }
        },
        {
          "output_type": "display_data",
          "data": {
            "image/png": "[encoded data removed]",
            "text/plain": [
              "<Figure size 432x288 with 1 Axes>"
            ]
          },
          "metadata": {
            "tags": [],
            "needs_background": "light"
          }
        }
      ]
    },
    {
      "cell_type": "code",
      "metadata": {
        "id": "-hFm71M0DNbY"
      },
      "source": [
        "x_test = get_sequences(tokenizer, x_test)\n",
        "y_test = names_to_ids(y_test)"
      ],
      "execution_count": 64,
      "outputs": []
    },
    {
      "cell_type": "code",
      "metadata": {
        "colab": {
          "base_uri": "https://localhost:8080/"
        },
        "id": "8Y6zhBF4EtOo",
        "outputId": "ac0fbd68-ab3a-47bd-b977-152b1dad6b67"
      },
      "source": [
        "_ = model.evaluate(x_test, y_test)"
      ],
      "execution_count": 66,
      "outputs": [
        {
          "output_type": "stream",
          "text": [
            "63/63 [==============================] - 0s 7ms/step - loss: 0.4011 - accuracy: 0.8815\n"
          ],
          "name": "stdout"
        }
      ]
    },
    {
      "cell_type": "code",
      "metadata": {
        "colab": {
          "base_uri": "https://localhost:8080/"
        },
        "id": "Wv4w0ShqE_kE",
        "outputId": "b9bfbbb7-af72-4abb-c68a-3f498cb0917f"
      },
      "source": [
        "for _ in range(10):\n",
        "  x = random.randint(0, len(x_test)-1)\n",
        "  print(f\"Sentence: {test[x]['text']}\")\n",
        "  print(f'Emotion: {index_to_class[y_test[x]]}')\n",
        "  prediction = model.predict(np.expand_dims(x_test[x], axis=0))[0]\n",
        "  pred = index_to_class[np.argmax(prediction)]\n",
        "  print(f\"Prediction: {pred}\")\n",
        "  print()"
      ],
      "execution_count": 85,
      "outputs": [
        {
          "output_type": "stream",
          "text": [
            "Sentence: i feel most inspired to create and ive been thinking a lot about inspiration this week\n",
            "Emotion: joy\n",
            "Prediction: joy\n",
            "\n",
            "Sentence: i indicated then i was feeling quite overwhelmed with work responsibilities teaching traveling and writing\n",
            "Emotion: fear\n",
            "Prediction: surprise\n",
            "\n",
            "Sentence: i just cant help but feel like i must protect this innocent being\n",
            "Emotion: joy\n",
            "Prediction: joy\n",
            "\n",
            "Sentence: whenever i put myself in others shoes and try to make the person happy\n",
            "Emotion: anger\n",
            "Prediction: sadness\n",
            "\n",
            "Sentence: i never dreamed i would be so busy so soon in the new year but i am loving it and feeling so very gracious and fortunate\n",
            "Emotion: joy\n",
            "Prediction: love\n",
            "\n",
            "Sentence: i think and it feels a little weird\n",
            "Emotion: fear\n",
            "Prediction: fear\n",
            "\n",
            "Sentence: i can feel the warmth of the gentle sun\n",
            "Emotion: love\n",
            "Prediction: love\n",
            "\n",
            "Sentence: i kept trying to make her feel better\n",
            "Emotion: joy\n",
            "Prediction: joy\n",
            "\n",
            "Sentence: i feel like the crows and roosters will be teamed up with the horses and go against the bulls sharks and other monsters that are trying to take over of cool ranch\n",
            "Emotion: joy\n",
            "Prediction: joy\n",
            "\n",
            "Sentence: i can sit here and cry and feel wronged but it wont change the outcome\n",
            "Emotion: anger\n",
            "Prediction: anger\n",
            "\n"
          ],
          "name": "stdout"
        }
      ]
    },
    {
      "cell_type": "code",
      "metadata": {
        "colab": {
          "base_uri": "https://localhost:8080/",
          "height": 530
        },
        "id": "cE2TwsadFt5s",
        "outputId": "d3b2d350-cf65-4234-c8d8-b1710d2907ce"
      },
      "source": [
        "preds = model.predict_classes(x_test)\n",
        "show_confusion_matrix(y_test, preds, list(classes))"
      ],
      "execution_count": 89,
      "outputs": [
        {
          "output_type": "stream",
          "text": [
            "/usr/local/lib/python3.7/dist-packages/tensorflow/python/keras/engine/sequential.py:455: UserWarning: `model.predict_classes()` is deprecated and will be removed after 2021-01-01. Please use instead:* `np.argmax(model.predict(x), axis=-1)`,   if your model does multi-class classification   (e.g. if it uses a `softmax` last-layer activation).* `(model.predict(x) > 0.5).astype(\"int32\")`,   if your model does binary classification   (e.g. if it uses a `sigmoid` last-layer activation).\n",
            "  warnings.warn('`model.predict_classes()` is deprecated and '\n"
          ],
          "name": "stderr"
        },
        {
          "output_type": "display_data",
          "data": {
            "image/png": "[encoded data removed]",
            "text/plain": [
              "<Figure size 576x576 with 2 Axes>"
            ]
          },
          "metadata": {
            "tags": [],
            "needs_background": "light"
          }
        }
      ]
    },
    {
      "cell_type": "code",
      "metadata": {
        "id": "6iAquvRmGjWA"
      },
      "source": [
        ""
      ],
      "execution_count": null,
      "outputs": []
    }
  ]
}